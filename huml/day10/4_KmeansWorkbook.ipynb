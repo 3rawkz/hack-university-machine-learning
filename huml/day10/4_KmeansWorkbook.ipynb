{
 "cells": [
  {
   "cell_type": "markdown",
   "metadata": {},
   "source": [
    "# K-means Workbook"
   ]
  },
  {
   "cell_type": "markdown",
   "metadata": {},
   "source": [
    "### We're back to  [Fisher's iris data](https://archive.ics.uci.edu/ml/datasets/Iris)"
   ]
  },
  {
   "cell_type": "code",
   "execution_count": 15,
   "metadata": {
    "collapsed": false
   },
   "outputs": [
    {
     "name": "stdout",
     "output_type": "stream",
     "text": [
      "Populating the interactive namespace from numpy and matplotlib\n"
     ]
    },
    {
     "name": "stderr",
     "output_type": "stream",
     "text": [
      "WARNING: pylab import has clobbered these variables: ['pylab']\n",
      "`%matplotlib` prevents importing * from pylab and numpy\n"
     ]
    }
   ],
   "source": [
    "%pylab inline\n",
    "from sklearn import datasets\n",
    "iris = datasets.load_iris()\n",
    "\n",
    "# print \"shape of data:\",iris.data.shape\n",
    "# print \"iv names:\",iris.feature_names\n",
    "# print \"shape of labels:\", iris.target.shape\n",
    "# print \"label names:\",iris.target_names\n",
    "# print\n",
    "\n",
    "# print \"Picking 15 samples, with labels:\"\n",
    "# for i in range(0,149,15):\n",
    "#     print iris.data[i],iris.target[i]\n",
    "# print \"...\""
   ]
  },
  {
   "cell_type": "markdown",
   "metadata": {},
   "source": [
    "But let's drop the labels to pretend we don't know what we're looking at.\n",
    "\n",
    "Let's also only look at the petal width and petal length, so we can more easily graph it."
   ]
  },
  {
   "cell_type": "code",
   "execution_count": 16,
   "metadata": {
    "collapsed": true
   },
   "outputs": [],
   "source": [
    "data = [[row[2], row[3]] for row in iris.data]\n",
    "labels = [iris.target]\n"
   ]
  },
  {
   "cell_type": "code",
   "execution_count": 17,
   "metadata": {
    "collapsed": false
   },
   "outputs": [
    {
     "data": {
      "text/plain": [
       "KMeans(copy_x=True, init='k-means++', max_iter=300, n_clusters=3, n_init=10,\n",
       "    n_jobs=1, precompute_distances='auto', random_state=None, tol=0.0001,\n",
       "    verbose=0)"
      ]
     },
     "execution_count": 17,
     "metadata": {},
     "output_type": "execute_result"
    }
   ],
   "source": [
    "# Starting on the 2d iris data: run k-means on iris data.\n",
    "from sklearn.cluster import KMeans\n",
    "km = KMeans(n_clusters=3)\n",
    "km.fit(data)"
   ]
  },
  {
   "cell_type": "code",
   "execution_count": 20,
   "metadata": {
    "collapsed": false
   },
   "outputs": [
    {
     "data": {
      "text/plain": [
       "<matplotlib.text.Text at 0x107fa4278>"
      ]
     },
     "execution_count": 20,
     "metadata": {},
     "output_type": "execute_result"
    },
    {
     "data": {
      "image/png": "[encoded data removed]",
      "text/plain": [
       "<matplotlib.figure.Figure at 0x107fd2d68>"
      ]
     },
     "metadata": {},
     "output_type": "display_data"
    }
   ],
   "source": [
    "# Scree plot to pick k\n",
    "X = []\n",
    "Y = []\n",
    "for n_clusters in range(1,10):\n",
    "    X.append(n_clusters)\n",
    "    n_repeats = 10\n",
    "    y = 0.\n",
    "    for i in range(n_repeats):\n",
    "        \n",
    "        km = KMeans(n_clusters=n_clusters)\n",
    "        km.fit(data)\n",
    "        score = km.score(data)\n",
    "        y += score\n",
    "    Y.append(y/n_repeats)\n",
    "\n",
    "figure(4,figsize=(10,6))\n",
    "plot(X,Y)\n",
    "title('Average Score for a given K')\n",
    "xlabel('K')\n",
    "ylabel('Average Score')"
   ]
  },
  {
   "cell_type": "code",
   "execution_count": 23,
   "metadata": {
    "collapsed": false
   },
   "outputs": [
    {
     "data": {
      "text/plain": [
       "[<matplotlib.lines.Line2D at 0x108993278>]"
      ]
     },
     "execution_count": 23,
     "metadata": {},
     "output_type": "execute_result"
    },
    {
     "data": {
      "image/png": "[encoded data removed]",
      "text/plain": [
       "<matplotlib.figure.Figure at 0x107f2c4a8>"
      ]
     },
     "metadata": {},
     "output_type": "display_data"
    }
   ],
   "source": [
    "# plot best centers on top of \n",
    "\n",
    "km = KMeans(n_clusters=3)\n",
    "km.fit(data)\n",
    "[center_1, center_2, center_3] = km.cluster_centers_\n",
    "\n",
    "\n",
    "figure(3,figsize=(10,6))\n",
    "plot([row[0] for row in data],[row[1] for row in data],'b.')\n",
    "\n",
    "plot(center_1[0],center_1[1], 'g*',ms=15)\n",
    "plot(center_2[0],center_2[1], 'g*',ms=15)\n",
    "plot(center_3[0],center_3[1], 'g*',ms=15)"
   ]
  },
  {
   "cell_type": "code",
   "execution_count": null,
   "metadata": {
    "collapsed": true
   },
   "outputs": [],
   "source": [
    "# compare clusters to actual class"
   ]
  },
  {
   "cell_type": "code",
   "execution_count": null,
   "metadata": {
    "collapsed": true
   },
   "outputs": [],
   "source": [
    "# Rerun scree on 4 dimensions."
   ]
  },
  {
   "cell_type": "code",
   "execution_count": 1,
   "metadata": {
    "collapsed": true
   },
   "outputs": [],
   "source": [
    "# Does the 2 extra dimensions do anything?"
   ]
  },
  {
   "cell_type": "code",
   "execution_count": 2,
   "metadata": {
    "collapsed": true
   },
   "outputs": [],
   "source": [
    "# Bonus: cluster the digits dataset"
   ]
  }
 ],
 "metadata": {
  "kernelspec": {
   "display_name": "Python 3",
   "language": "python",
   "name": "python3"
  },
  "language_info": {
   "codemirror_mode": {
    "name": "ipython",
    "version": 3
   },
   "file_extension": ".py",
   "mimetype": "text/x-python",
   "name": "python",
   "nbconvert_exporter": "python",
   "pygments_lexer": "ipython3",
   "version": "3.5.0"
  }
 },
 "nbformat": 4,
 "nbformat_minor": 0
}
