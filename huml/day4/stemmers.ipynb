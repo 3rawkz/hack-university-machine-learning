{
 "cells": [
  {
   "cell_type": "code",
<<<<<<< HEAD
   "execution_count": 2,
=======
   "execution_count": 17,
   "metadata": {
    "collapsed": false
   },
   "outputs": [],
   "source": [
    "from porter import stem as port\n",
    "from lovins import stem as lov\n",
    "sentence = 'Is there anything harder than finding roots with a stemmer of trees in bunches of'\n",
    "sentence += ' ugly duckling geese, goslings, goose, chicken, swimming swan words?'\n",
    "\n",
    "def stem_all(text, stemmer=port):\n",
    "    return ' '.join(stemmer(w) for w in text.split())\n",
    "\n"
   ]
  },
  {
   "cell_type": "code",
   "execution_count": 18,
   "metadata": {
    "collapsed": false
   },
   "outputs": [],
   "source": [
    "text = sentence\n",
    "stemmer = port\n",
    "g = (w for w in text.split())\n"
   ]
  },
  {
   "cell_type": "code",
   "execution_count": 19,
>>>>>>> master
   "metadata": {
    "collapsed": false
   },
   "outputs": [
    {
     "data": {
      "text/plain": [
       "['Is',\n",
       " 'there',\n",
       " 'anything',\n",
       " 'harder',\n",
       " 'than',\n",
       " 'finding',\n",
       " 'roots',\n",
       " 'with',\n",
       " 'a',\n",
       " 'stemmer',\n",
       " 'of',\n",
       " 'trees',\n",
       " 'in',\n",
       " 'bunches',\n",
       " 'of',\n",
       " 'ugly',\n",
       " 'duckling',\n",
       " 'geese,',\n",
       " 'goslings,',\n",
       " 'goose,',\n",
       " 'chicken,',\n",
       " 'swimming',\n",
       " 'swan',\n",
       " 'words?']"
      ]
     },
<<<<<<< HEAD
     "execution_count": 2,
=======
     "execution_count": 19,
>>>>>>> master
     "metadata": {},
     "output_type": "execute_result"
    }
   ],
   "source": [
    "list(g)\n"
   ]
  },
  {
   "cell_type": "code",
   "execution_count": 16,
   "metadata": {
    "collapsed": false
   },
   "outputs": [
    {
     "data": {
      "text/plain": [
       "'Is there anything harder than finding roots with a stemmer of trees in bunches of ugly duckling geese, goslings, goose, chicken, swimming swan words?'"
      ]
     },
     "execution_count": 16,
     "metadata": {},
     "output_type": "execute_result"
    }
   ],
   "source": [
    "sentence"
   ]
  },
  {
   "cell_type": "code",
   "execution_count": 17,
   "metadata": {
    "collapsed": false
   },
   "outputs": [
    {
     "data": {
      "text/plain": [
       "['Is',\n",
       " 'there',\n",
       " 'anything',\n",
       " 'harder',\n",
       " 'than',\n",
       " 'finding',\n",
       " 'roots',\n",
       " 'with',\n",
       " 'a',\n",
       " 'stemmer',\n",
       " 'of',\n",
       " 'trees',\n",
       " 'in',\n",
       " 'bunches',\n",
       " 'of',\n",
       " 'ugly',\n",
       " 'duckling',\n",
       " 'geese,',\n",
       " 'goslings,',\n",
       " 'goose,',\n",
       " 'chicken,',\n",
       " 'swimming',\n",
       " 'swan',\n",
       " 'words?']"
      ]
     },
     "execution_count": 17,
     "metadata": {},
     "output_type": "execute_result"
    }
   ],
   "source": [
    "sentence.split()"
   ]
  },
  {
   "cell_type": "code",
   "execution_count": 18,
   "metadata": {
    "collapsed": false
   },
   "outputs": [
    {
     "name": "stdout",
     "output_type": "stream",
     "text": [
      "Is\n",
      "there\n",
      "anything\n",
      "harder\n",
      "than\n",
      "finding\n",
      "roots\n",
      "with\n",
      "a\n",
      "stemmer\n",
      "of\n",
      "trees\n",
      "in\n",
      "bunches\n",
      "of\n",
      "ugly\n",
      "duckling\n",
      "geese,\n",
      "goslings,\n",
      "goose,\n",
      "chicken,\n",
      "swimming\n",
      "swan\n",
      "words?\n"
     ]
    }
   ],
   "source": [
    "for word in sentence.split():\n",
    "    print word"
   ]
  },
  {
   "cell_type": "code",
   "execution_count": 3,
   "metadata": {
    "collapsed": false
   },
   "outputs": [
    {
     "data": {
      "text/plain": [
       "'Is there anything harder than finding roots with a stemmer of trees in bunches of ugly duckling geese, goslings, goose, chicken, swimming swan words?'"
      ]
     },
     "execution_count": 3,
     "metadata": {},
     "output_type": "execute_result"
    }
   ],
   "source": [
    "sentence"
   ]
  },
  {
   "cell_type": "code",
   "execution_count": 4,
   "metadata": {
    "collapsed": false
   },
   "outputs": [
    {
     "data": {
      "text/plain": [
       "'Is ther anyth harder than find root with a stemmer of tree in bunch of ugl duckl geese, goslings, goose, chicken, swim swan words?'"
      ]
     },
     "execution_count": 4,
     "metadata": {},
     "output_type": "execute_result"
    }
   ],
   "source": [
    "stem_all(sentence, stemmer=lov)\n"
   ]
  },
  {
   "cell_type": "code",
<<<<<<< HEAD
   "execution_count": 6,
   "metadata": {
    "collapsed": false
   },
   "outputs": [
    {
     "data": {
      "text/plain": [
       "['Is',\n",
       " 'there',\n",
       " 'anything',\n",
       " 'harder',\n",
       " 'than',\n",
       " 'finding',\n",
       " 'roots',\n",
       " 'with',\n",
       " 'a',\n",
       " 'stemmer',\n",
       " 'of',\n",
       " 'trees',\n",
       " 'in',\n",
       " 'bunches',\n",
       " 'of',\n",
       " 'ugly',\n",
       " 'duckling',\n",
       " 'geese,',\n",
       " 'goslings,',\n",
       " 'goose,',\n",
       " 'chicken,',\n",
       " 'swimming',\n",
       " 'swan',\n",
       " 'words?']"
      ]
     },
     "execution_count": 6,
     "metadata": {},
     "output_type": "execute_result"
    }
   ],
   "source": [
    "sentence.split()"
   ]
  },
  {
   "cell_type": "code",
   "execution_count": 8,
   "metadata": {
    "collapsed": false
   },
   "outputs": [
    {
     "name": "stdout",
     "output_type": "stream",
     "text": [
      "Is\n",
      "there\n",
      "anything\n",
      "harder\n",
      "than\n",
      "finding\n",
      "roots\n",
      "with\n",
      "a\n",
      "stemmer\n",
      "of\n",
      "trees\n",
      "in\n",
      "bunches\n",
      "of\n",
      "ugly\n",
      "duckling\n",
      "geese,\n",
      "goslings,\n",
      "goose,\n",
      "chicken,\n",
      "swimming\n",
      "swan\n",
      "words?\n"
     ]
    }
   ],
   "source": [
    "for word in sentence.split():\n",
    "    print word"
   ]
  },
  {
   "cell_type": "code",
   "execution_count": 17,
   "metadata": {
    "collapsed": true
   },
   "outputs": [],
   "source": [
    "text=sentence"
   ]
  },
  {
   "cell_type": "code",
   "execution_count": 18,
   "metadata": {
    "collapsed": false
   },
   "outputs": [],
   "source": [
    "stemmer=port\n"
   ]
  },
  {
   "cell_type": "code",
   "execution_count": 19,
   "metadata": {
    "collapsed": false
   },
   "outputs": [],
   "source": []
  },
  {
   "cell_type": "code",
   "execution_count": 23,
=======
   "execution_count": 5,
>>>>>>> master
   "metadata": {
    "collapsed": false
   },
   "outputs": [
    {
     "data": {
      "text/plain": [
       "['Is',\n",
       " 'there',\n",
       " 'anyth',\n",
       " 'harder',\n",
       " 'than',\n",
       " 'find',\n",
       " 'root',\n",
       " 'with',\n",
       " 'a',\n",
       " 'stemmer',\n",
       " 'of',\n",
       " 'tree',\n",
       " 'in',\n",
       " 'bunch',\n",
       " 'of',\n",
       " 'ugli',\n",
       " 'duckl',\n",
<<<<<<< HEAD
       " 'geese,',\n",
       " 'goslings,',\n",
       " 'goose,',\n",
       " 'chicken,',\n",
       " 'swimm',\n",
       " 'swan',\n",
       " 'words?']"
      ]
     },
     "execution_count": 23,
=======
       " 'gees',\n",
       " 'gosl',\n",
       " 'goos',\n",
       " 'chicken',\n",
       " 'swimm',\n",
       " 'swan',\n",
       " 'word']"
      ]
     },
     "execution_count": 5,
>>>>>>> master
     "metadata": {},
     "output_type": "execute_result"
    }
   ],
   "source": [
    "from collections import Counter\n",
    "g = (stemmer(w) for w in text.split())\n",
    "words = list(g)\n",
<<<<<<< HEAD
=======
    "words = [stemmer(w.strip(\",?!.'\")) for w in text.split()]\n",
>>>>>>> master
    "words"
   ]
  },
  {
   "cell_type": "code",
<<<<<<< HEAD
   "execution_count": 24,
   "metadata": {
    "collapsed": false
   },
   "outputs": [
    {
     "data": {
      "text/plain": [
       "Counter({'Is': 1,\n",
       "         'a': 1,\n",
       "         'anyth': 1,\n",
       "         'bunch': 1,\n",
       "         'chicken,': 1,\n",
       "         'duckl': 1,\n",
       "         'find': 1,\n",
       "         'geese,': 1,\n",
       "         'goose,': 1,\n",
       "         'goslings,': 1,\n",
       "         'harder': 1,\n",
       "         'in': 1,\n",
       "         'of': 2,\n",
       "         'root': 1,\n",
       "         'stemmer': 1,\n",
       "         'swan': 1,\n",
       "         'swimm': 1,\n",
       "         'than': 1,\n",
       "         'there': 1,\n",
       "         'tree': 1,\n",
       "         'ugli': 1,\n",
       "         'with': 1,\n",
       "         'words?': 1})"
      ]
     },
     "execution_count": 24,
     "metadata": {},
     "output_type": "execute_result"
    }
   ],
   "source": [
    "Counter(words)"
   ]
  },
  {
   "cell_type": "code",
   "execution_count": 27,
   "metadata": {
    "collapsed": true
   },
   "outputs": [],
   "source": [
    "count=Counter(words)"
   ]
  },
  {
   "cell_type": "code",
   "execution_count": 29,
=======
   "execution_count": 31,
>>>>>>> master
   "metadata": {
    "collapsed": false
   },
   "outputs": [
    {
     "data": {
      "text/plain": [
       "Counter({'Is': 2,\n",
       "         'a': 2,\n",
       "         'anyth': 2,\n",
       "         'bunch': 2,\n",
       "         'chicken,': 2,\n",
       "         'duckl': 2,\n",
       "         'find': 2,\n",
       "         'geese,': 2,\n",
       "         'goose,': 2,\n",
       "         'goslings,': 2,\n",
       "         'harder': 2,\n",
       "         'in': 2,\n",
       "         'of': 4,\n",
       "         'root': 2,\n",
       "         'stemmer': 2,\n",
       "         'swan': 2,\n",
       "         'swimm': 2,\n",
       "         'than': 2,\n",
       "         'there': 2,\n",
       "         'tree': 2,\n",
       "         'ugli': 2,\n",
       "         'with': 2,\n",
       "         'words?': 2})"
      ]
     },
<<<<<<< HEAD
     "execution_count": 29,
=======
     "execution_count": 31,
>>>>>>> master
     "metadata": {},
     "output_type": "execute_result"
    }
   ],
   "source": [
<<<<<<< HEAD
=======
    "count = Counter(words)\n",
>>>>>>> master
    "count + Counter(words)"
   ]
  },
  {
   "cell_type": "code",
<<<<<<< HEAD
   "execution_count": 32,
=======
   "execution_count": 33,
>>>>>>> master
   "metadata": {
    "collapsed": false
   },
   "outputs": [
    {
     "data": {
      "text/plain": [
<<<<<<< HEAD
       "[('Is', 'there'),\n",
       " ('there', 'anyth'),\n",
       " ('anyth', 'harder'),\n",
       " ('harder', 'than'),\n",
       " ('than', 'find'),\n",
       " ('find', 'root'),\n",
       " ('root', 'with'),\n",
       " ('with', 'a'),\n",
       " ('a', 'stemmer'),\n",
       " ('stemmer', 'of'),\n",
       " ('of', 'tree'),\n",
       " ('tree', 'in'),\n",
       " ('in', 'bunch'),\n",
       " ('bunch', 'of'),\n",
       " ('of', 'ugli'),\n",
       " ('ugli', 'duckl'),\n",
       " ('duckl', 'geese,'),\n",
       " ('geese,', 'goslings,'),\n",
       " ('goslings,', 'goose,'),\n",
       " ('goose,', 'chicken,'),\n",
       " ('chicken,', 'swimm'),\n",
       " ('swimm', 'swan'),\n",
       " ('swan', 'words?')]"
      ]
     },
     "execution_count": 32,
=======
       "[('Is', 'Is'),\n",
       " ('there', 'there'),\n",
       " ('anyth', 'anyth'),\n",
       " ('harder', 'harder'),\n",
       " ('than', 'than'),\n",
       " ('find', 'find'),\n",
       " ('root', 'root'),\n",
       " ('with', 'with'),\n",
       " ('a', 'a'),\n",
       " ('stemmer', 'stemmer'),\n",
       " ('of', 'of'),\n",
       " ('tree', 'tree'),\n",
       " ('in', 'in'),\n",
       " ('bunch', 'bunch'),\n",
       " ('of', 'of'),\n",
       " ('ugli', 'ugli'),\n",
       " ('duckl', 'duckl'),\n",
       " ('geese,', 'geese,'),\n",
       " ('goslings,', 'goslings,'),\n",
       " ('goose,', 'goose,'),\n",
       " ('chicken,', 'chicken,'),\n",
       " ('swimm', 'swimm'),\n",
       " ('swan', 'swan'),\n",
       " ('words?', 'words?')]"
      ]
     },
     "execution_count": 33,
>>>>>>> master
     "metadata": {},
     "output_type": "execute_result"
    }
   ],
   "source": [
<<<<<<< HEAD
    "zip(words, words[1:])"
=======
    "zip(words, words)"
>>>>>>> master
   ]
  },
  {
   "cell_type": "code",
<<<<<<< HEAD
   "execution_count": 35,
=======
   "execution_count": 39,
>>>>>>> master
   "metadata": {
    "collapsed": false
   },
   "outputs": [
    {
     "data": {
      "text/plain": [
       "{'Is': 'there',\n",
       " 'a': 'stemmer',\n",
       " 'anyth': 'harder',\n",
       " 'bunch': 'of',\n",
       " 'chicken,': 'swimm',\n",
       " 'duckl': 'geese,',\n",
       " 'find': 'root',\n",
       " 'geese,': 'goslings,',\n",
       " 'goose,': 'chicken,',\n",
       " 'goslings,': 'goose,',\n",
       " 'harder': 'than',\n",
       " 'in': 'bunch',\n",
       " 'of': 'ugli',\n",
       " 'root': 'with',\n",
       " 'stemmer': 'of',\n",
       " 'swan': 'words?',\n",
       " 'swimm': 'swan',\n",
       " 'than': 'find',\n",
       " 'there': 'anyth',\n",
       " 'tree': 'in',\n",
       " 'ugli': 'duckl',\n",
       " 'with': 'a'}"
      ]
     },
<<<<<<< HEAD
     "execution_count": 35,
=======
     "execution_count": 39,
>>>>>>> master
     "metadata": {},
     "output_type": "execute_result"
    }
   ],
   "source": [
    "dict(zip(words, words[1:]))"
   ]
  },
  {
   "cell_type": "code",
<<<<<<< HEAD
   "execution_count": 53,
=======
   "execution_count": 7,
   "metadata": {
    "collapsed": false
   },
   "outputs": [],
   "source": [
    "from collections import defaultdict\n",
    "defaultdict?"
   ]
  },
  {
   "cell_type": "code",
   "execution_count": 8,
>>>>>>> master
   "metadata": {
    "collapsed": false
   },
   "outputs": [
    {
     "data": {
      "text/plain": [
       "defaultdict(list,\n",
       "            {'Is': ['there'],\n",
       "             'a': ['stemmer'],\n",
       "             'anyth': ['harder'],\n",
       "             'bunch': ['of'],\n",
<<<<<<< HEAD
       "             'chicken,': ['swimm'],\n",
       "             'duckl': ['geese,'],\n",
       "             'find': ['root'],\n",
       "             'geese,': ['goslings,'],\n",
       "             'goose,': ['chicken,'],\n",
       "             'goslings,': ['goose,'],\n",
=======
       "             'chicken': ['swimm'],\n",
       "             'duckl': ['gees'],\n",
       "             'find': ['root'],\n",
       "             'gees': ['gosl'],\n",
       "             'goos': ['chicken'],\n",
       "             'gosl': ['goos'],\n",
>>>>>>> master
       "             'harder': ['than'],\n",
       "             'in': ['bunch'],\n",
       "             'of': ['tree', 'ugli'],\n",
       "             'root': ['with'],\n",
       "             'stemmer': ['of'],\n",
<<<<<<< HEAD
       "             'swan': ['words?'],\n",
=======
       "             'swan': ['word'],\n",
>>>>>>> master
       "             'swimm': ['swan'],\n",
       "             'than': ['find'],\n",
       "             'there': ['anyth'],\n",
       "             'tree': ['in'],\n",
       "             'ugli': ['duckl'],\n",
       "             'with': ['a']})"
      ]
     },
<<<<<<< HEAD
     "execution_count": 53,
=======
     "execution_count": 8,
>>>>>>> master
     "metadata": {},
     "output_type": "execute_result"
    }
   ],
   "source": [
<<<<<<< HEAD
    "from collections import defaultdict\n",
    "d = defaultdict(list)\n",
    "for pair in zip(words, words[1:]):\n",
    "    d[pair[0]] += [pair[1]]\n",
    "    #d[pair[0]] += [pair[1]]\n",
    "d"
=======
    "d = defaultdict(list)\n",
    "for pair in zip(words, words[1:]):\n",
    "    # print(pair)\n",
    "    # print(d[pair[0]])\n",
    "    d[pair[0]] = d[pair[0]] + [pair[1]]\n",
    "\n",
    "\n",
    "d\n"
>>>>>>> master
   ]
  },
  {
   "cell_type": "code",
<<<<<<< HEAD
   "execution_count": 52,
=======
   "execution_count": 15,
>>>>>>> master
   "metadata": {
    "collapsed": false
   },
   "outputs": [
    {
     "name": "stdout",
     "output_type": "stream",
     "text": [
<<<<<<< HEAD
      "geese\n"
     ]
=======
      "['gosl']\n",
      "[]\n",
      "gosl\n",
      "['goos']\n",
      "['gosl']\n",
      "goos\n",
      "['chicken']\n",
      "['gosl', 'goos']\n",
      "chicken\n",
      "['swimm']\n",
      "['gosl', 'goos', 'chicken']\n",
      "swimm\n",
      "['swan']\n",
      "['gosl', 'goos', 'chicken', 'swimm']\n",
      "swan\n",
      "['word']\n",
      "['gosl', 'goos', 'chicken', 'swimm', 'swan']\n",
      "word\n"
     ]
    },
    {
     "data": {
      "text/plain": [
       "'gosl goos chicken swimm swan word'"
      ]
     },
     "execution_count": 15,
     "metadata": {},
     "output_type": "execute_result"
>>>>>>> master
    }
   ],
   "source": [
    "word = 'gees'\n",
    "sentence = []\n",
<<<<<<< HEAD
    "while word: \n",
    "    word= d[word]\n",
    "    if word:\n",
    "        print word\n",
    "#         sentence += word[0]"
   ]
  },
  {
   "cell_type": "code",
   "execution_count": null,
   "metadata": {
    "collapsed": true
   },
   "outputs": [],
   "source": []
=======
    "while word:\n",
    "    word =  d[word]\n",
    "    if word:\n",
    "        sentence += [word[0]]\n",
    "        word = word[0]\n",
    "' '.join(sentence)\n",
    "    "
   ]
>>>>>>> master
  }
 ],
 "metadata": {
  "kernelspec": {
   "display_name": "Python 2",
   "language": "python",
   "name": "python2"
  },
  "language_info": {
   "codemirror_mode": {
    "name": "ipython",
    "version": 2
   },
   "file_extension": ".py",
   "mimetype": "text/x-python",
   "name": "python",
   "nbconvert_exporter": "python",
   "pygments_lexer": "ipython2",
   "version": "2.7.10"
  }
 },
 "nbformat": 4,
 "nbformat_minor": 0
}
