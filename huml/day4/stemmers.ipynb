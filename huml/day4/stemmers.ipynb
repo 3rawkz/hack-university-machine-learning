{
 "cells": [
  {
   "cell_type": "code",
   "execution_count": 12,
   "metadata": {
    "collapsed": false
   },
   "outputs": [
    {
     "data": {
      "text/plain": [
       "'Is there anyth harder than find root with a stemmer of tree in bunch of ugli duckl geese, goslings, goose, chicken, swimm swan words?'"
      ]
     },
     "execution_count": 12,
     "metadata": {},
     "output_type": "execute_result"
    }
   ],
   "source": [
    "from porter import stem as port\n",
    "from lovins import stem as lov\n",
    "sentence = 'Is there anything harder than finding roots with a stemmer of trees in bunches of'\n",
    "sentence += ' ugly duckling geese, goslings, goose, chicken, swimming swan words?'\n",
    "\n",
    "def stem_all(text, stemmer=port):\n",
    "    return ' '.join(stemmer(w) for w in text.split())\n",
    "\n",
    "stem_all(sentence)"
   ]
  },
  {
   "cell_type": "code",
   "execution_count": 13,
   "metadata": {
    "collapsed": false
   },
   "outputs": [
    {
     "data": {
      "text/plain": [
       "'Is ther anyth harder than find root with a stemmer of tree in bunch of ugl duckl geese, goslings, goose, chicken, swim swan words?'"
      ]
     },
     "execution_count": 13,
     "metadata": {},
     "output_type": "execute_result"
    }
   ],
   "source": [
    "stem_all(sentence, stemmer=lov)\n"
   ]
  }
 ],
 "metadata": {
  "kernelspec": {
   "display_name": "Python 2",
   "language": "python",
   "name": "python2"
  },
  "language_info": {
   "codemirror_mode": {
    "name": "ipython",
    "version": 2
   },
   "file_extension": ".py",
   "mimetype": "text/x-python",
   "name": "python",
   "nbconvert_exporter": "python",
   "pygments_lexer": "ipython2",
   "version": "2.7.11"
  }
 },
 "nbformat": 4,
 "nbformat_minor": 0
}
