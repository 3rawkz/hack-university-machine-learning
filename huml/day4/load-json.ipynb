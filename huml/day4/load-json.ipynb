{
 "cells": [
  {
   "cell_type": "code",
   "execution_count": 103,
   "metadata": {
    "collapsed": false
   },
   "outputs": [
    {
     "data": {
      "text/plain": [
       "{u'has_more': False,\n",
       " u'messages': [{u'text': u'<@U0LR97J6M>: Hi',\n",
       "   u'ts': u'1456075787.000008',\n",
       "   u'type': u'message',\n",
       "   u'user': u'U0LL6QSP9'},\n",
       "  {u'text': u'<@U0LLB3M7C>: Hi',\n",
       "   u'ts': u'1456075780.000007',\n",
       "   u'type': u'message',\n",
       "   u'user': u'U0LL6QSP9'},\n",
       "  {u'text': u'<@U0LL13TNV>:  Thanks, see ya soon',\n",
       "   u'ts': u'1456075460.000006',\n",
       "   u'type': u'message',\n",
       "   u'user': u'U0LL6QSP9'},\n",
       "  {u'text': u'<@U0LR97J6M>: This is a test',\n",
       "   u'ts': u'1456075442.000005',\n",
       "   u'type': u'message',\n",
       "   u'user': u'U0LL6QSP9'},\n",
       "  {u'text': u'<@U0LL6QSP9> we can spend some time in class together working on it. that code is really hard to read.',\n",
       "   u'ts': u'1456075024.000004',\n",
       "   u'type': u'message',\n",
       "   u'user': u'U0LL13TNV'},\n",
       "  {u'text': u'<@U0LR97J6M>: Hello?',\n",
       "   u'ts': u'1456074156.000003',\n",
       "   u'type': u'message',\n",
       "   u'user': u'U0LL6QSP9'},\n",
       "  {u'text': u'<@U0LR97J6M>: can you hear me?',\n",
       "   u'ts': u'1456074062.000002',\n",
       "   u'type': u'message',\n",
       "   u'user': u'U0LL13TNV'},\n",
       "  {u'text': u'hi',\n",
       "   u'ts': u'1455856938.000016',\n",
       "   u'type': u'message',\n",
       "   u'user': u'U0LLAU2E9'},\n",
       "  {u'text': u'hey',\n",
       "   u'ts': u'1455856770.000015',\n",
       "   u'type': u'message',\n",
       "   u'user': u'U0LNNUDGF'},\n",
       "  {u'text': u'??',\n",
       "   u'ts': u'1455856753.000014',\n",
       "   u'type': u'message',\n",
       "   u'user': u'U0LNNUDGF'},\n",
       "  {u'text': u\"I'm alive!\",\n",
       "   u'ts': u'1455856636.000013',\n",
       "   u'type': u'message',\n",
       "   u'user': u'U0LLB3M7C'},\n",
       "  {u'text': u\"<@U0LLB3M7C>: what's up\",\n",
       "   u'ts': u'1455856627.000012',\n",
       "   u'type': u'message',\n",
       "   u'user': u'U0LL13TNV'},\n",
       "  {u'text': u'<@U0LLB3M7C>: Hello',\n",
       "   u'ts': u'1455856589.000011',\n",
       "   u'type': u'message',\n",
       "   u'user': u'U0LL6QSP9'},\n",
       "  {u'text': u'hello',\n",
       "   u'ts': u'1455856509.000010',\n",
       "   u'type': u'message',\n",
       "   u'user': u'U0LL6QSP9'},\n",
       "  {u'text': u\"I'm alive!\",\n",
       "   u'ts': u'1455856403.000009',\n",
       "   u'type': u'message',\n",
       "   u'user': u'U0LLB3M7C'},\n",
       "  {u'subtype': u'channel_join',\n",
       "   u'text': u'<@U0LL6QSP9|zakkent> has joined the channel',\n",
       "   u'ts': u'1455856238.000008',\n",
       "   u'type': u'message',\n",
       "   u'user': u'U0LL6QSP9'},\n",
       "  {u'text': u'hello',\n",
       "   u'ts': u'1455856175.000007',\n",
       "   u'type': u'message',\n",
       "   u'user': u'U0N3U0KFH'},\n",
       "  {u'subtype': u'channel_join',\n",
       "   u'text': u'<@U0N3U0KFH|jbizjak> has joined the channel',\n",
       "   u'ts': u'1455856165.000006',\n",
       "   u'type': u'message',\n",
       "   u'user': u'U0N3U0KFH'},\n",
       "  {u'subtype': u'channel_join',\n",
       "   u'text': u'<@U0LNNUDGF|lindsaymico> has joined the channel',\n",
       "   u'ts': u'1455856156.000005',\n",
       "   u'type': u'message',\n",
       "   u'user': u'U0LNNUDGF'},\n",
       "  {u'subtype': u'channel_join',\n",
       "   u'text': u'<@U0MFFA6R2|jethard> has joined the channel',\n",
       "   u'ts': u'1455856001.000004',\n",
       "   u'type': u'message',\n",
       "   u'user': u'U0MFFA6R2'},\n",
       "  {u'subtype': u'channel_join',\n",
       "   u'text': u'<@U0MSMLTM4|strachan> has joined the channel',\n",
       "   u'ts': u'1455855507.000003',\n",
       "   u'type': u'message',\n",
       "   u'user': u'U0MSMLTM4'},\n",
       "  {u'subtype': u'channel_join',\n",
       "   u'text': u'<@U0LLAU2E9|birajbisht> has joined the channel',\n",
       "   u'ts': u'1455855492.000002',\n",
       "   u'type': u'message',\n",
       "   u'user': u'U0LLAU2E9'},\n",
       "  {u'text': u\"I'm alive!\",\n",
       "   u'ts': u'1455778437.000005',\n",
       "   u'type': u'message',\n",
       "   u'user': u'U0LLB3M7C'},\n",
       "  {u'text': u\"Received 'How's it going Eliza?' in channel 'C0LL5MDKN' at 1455775843.86\",\n",
       "   u'ts': u'1455775843.000004',\n",
       "   u'type': u'message',\n",
       "   u'user': u'U0LLB3M7C'},\n",
       "  {u'text': u\"How's it going Eliza?\",\n",
       "   u'ts': u'1455775843.000003',\n",
       "   u'type': u'message',\n",
       "   u'user': u'U0LL13TNV'},\n",
       "  {u'text': u'<@U0LLB3M7C>: are you there?',\n",
       "   u'ts': u'1455775203.000002',\n",
       "   u'type': u'message',\n",
       "   u'user': u'U0LL13TNV'},\n",
       "  {u'text': u\"I'm alive!\",\n",
       "   u'ts': u'1455606693.000009',\n",
       "   u'type': u'message',\n",
       "   u'user': u'U0LLB3M7C'},\n",
       "  {u'text': u\"I'm alive!\",\n",
       "   u'ts': u'1455606693.000008',\n",
       "   u'type': u'message',\n",
       "   u'user': u'U0LLB3M7C'},\n",
       "  {u'text': u\"I'm alive!\",\n",
       "   u'ts': u'1455606556.000007',\n",
       "   u'type': u'message',\n",
       "   u'user': u'U0LLB3M7C'},\n",
       "  {u'text': u\"I'm alive!\",\n",
       "   u'ts': u'1455606556.000006',\n",
       "   u'type': u'message',\n",
       "   u'user': u'U0LLB3M7C'},\n",
       "  {u'text': u\"I'm alive!\",\n",
       "   u'ts': u'1455606420.000005',\n",
       "   u'type': u'message',\n",
       "   u'user': u'U0LLB3M7C'},\n",
       "  {u'text': u\"I'm alive!\",\n",
       "   u'ts': u'1455606419.000004',\n",
       "   u'type': u'message',\n",
       "   u'user': u'U0LLB3M7C'},\n",
       "  {u'text': u\"I'm alive!\",\n",
       "   u'ts': u'1455606037.000003',\n",
       "   u'type': u'message',\n",
       "   u'user': u'U0LLB3M7C'},\n",
       "  {u'text': u\"I'm alive!\",\n",
       "   u'ts': u'1455606037.000002',\n",
       "   u'type': u'message',\n",
       "   u'user': u'U0LLB3M7C'},\n",
       "  {u'icons': {u'image_48': u'https://s3-us-west-2.amazonaws.com/slack-files2/bot_icons/2016-02-14/21329340725_48.png'},\n",
       "   u'reactions': [{u'count': 1, u'name': u'one', u'users': [u'U0LL13TNV']},\n",
       "    {u'count': 1, u'name': u'two', u'users': [u'U0LL13TNV']}],\n",
       "   u'subtype': u'bot_message',\n",
       "   u'text': u'*Can you `import pandas`*\\n\\n:one:Yes\\n:two:No\\n',\n",
       "   u'ts': u'1455464847.000009',\n",
       "   u'type': u'message',\n",
       "   u'username': u'Simple Poll'},\n",
       "  {u'attachments': [{u'color': u'008cba',\n",
       "     u'fallback': u'[OS] \"What OS do you use?\" \"Mac\" \"Win\" \"Ubuntu\" \"Other\"',\n",
       "     u'fields': [{u'short': False,\n",
       "       u'title': u'',\n",
       "       u'value': u'<https://www.getsubcurrent.com/slackvote/sJGYaLroGqhGoAhFo/?qId=DkFcE5aTYKofaKWw6&amp;vote=0|Mac>'},\n",
       "      {u'short': False,\n",
       "       u'title': u'',\n",
       "       u'value': u'<https://www.getsubcurrent.com/slackvote/sJGYaLroGqhGoAhFo/?qId=DkFcE5aTYKofaKWw6&amp;vote=1|Win>'}],\n",
       "     u'id': 1,\n",
       "     u'mrkdwn_in': [u'pretext'],\n",
       "     u'pretext': u'A fellow team member has posted an anonymous poll using `/poll`: Vote below or <https://www.getsubcurrent.com/slackvote/sJGYaLroGqhGoAhFo|view results in your browser>.',\n",
       "     u'text': u'\\n',\n",
       "     u'title': u'[OS] \"What OS do you use?\" \"Mac\" \"Win\" \"Ubuntu\" \"Other\"'}],\n",
       "   u'icons': {u'image_48': u'https://s3-us-west-2.amazonaws.com/slack-files2/bot_icons/2016-02-08/20679230917_48.png'},\n",
       "   u'subtype': u'bot_message',\n",
       "   u'text': u'',\n",
       "   u'ts': u'1455464288.000006',\n",
       "   u'type': u'message',\n",
       "   u'username': u'subcurrent'},\n",
       "  {u'icons': {u'image_48': u'https://s3-us-west-2.amazonaws.com/slack-files2/bot_icons/2016-02-14/21329340725_48.png'},\n",
       "   u'reactions': [{u'count': 1, u'name': u'one', u'users': [u'U0LL13TNV']},\n",
       "    {u'count': 1, u'name': u'three', u'users': [u'U0LL13TNV']},\n",
       "    {u'count': 1, u'name': u'two', u'users': [u'U0LL13TNV']}],\n",
       "   u'subtype': u'bot_message',\n",
       "   u'text': u'*What is your OS?*\\n\\n:one:Mac\\n:two:Win\\n:three:Linux\\n',\n",
       "   u'ts': u'1455463722.000004',\n",
       "   u'type': u'message',\n",
       "   u'username': u'Simple Poll'},\n",
       "  {u'icons': {u'image_48': u'https://s3-us-west-2.amazonaws.com/slack-files2/bot_icons/2016-02-14/21329340725_48.png'},\n",
       "   u'subtype': u'bot_message',\n",
       "   u'text': u'*What is your OS?*\\n\\n:one:Mac\\n:two:Win\\n:three:Linux\\n',\n",
       "   u'ts': u'1455463513.000003',\n",
       "   u'type': u'message',\n",
       "   u'username': u'Simple Poll'},\n",
       "  {u'icons': {u'image_48': u'https://s3-us-west-2.amazonaws.com/slack-files2/bot_icons/2016-02-14/21329340725_48.png'},\n",
       "   u'reactions': [{u'count': 1, u'name': u'five', u'users': [u'U0LL13TNV']},\n",
       "    {u'count': 1, u'name': u'four', u'users': [u'U0LL13TNV']},\n",
       "    {u'count': 1, u'name': u'three', u'users': [u'U0LL13TNV']},\n",
       "    {u'count': 1, u'name': u'two', u'users': [u'U0LL13TNV']}],\n",
       "   u'subtype': u'bot_message',\n",
       "   u'text': u'*What is your OS?*\\n\\n:one:Mac OSX\\n:two:Win 10\\n:three:Other Win\\n:four:Ubuntu\\n:five:Other Linux\\n',\n",
       "   u'ts': u'1455463237.000002',\n",
       "   u'type': u'message',\n",
       "   u'username': u'Simple Poll'},\n",
       "  {u'subtype': u'channel_topic',\n",
       "   u'text': u'<@U0LL13TNV|hobs> set the channel topic: Try to get your bot to say something... even better, get it to respond to something.',\n",
       "   u'topic': u'Try to get your bot to say something... even better, get it to respond to something.',\n",
       "   u'ts': u'1455418239.000005',\n",
       "   u'type': u'message',\n",
       "   u'user': u'U0LL13TNV'},\n",
       "  {u'purpose': u'Bot playground! Have fun, but keep the traffic down so that everyone gets a change to play.\",',\n",
       "   u'subtype': u'channel_purpose',\n",
       "   u'text': u'<@U0LL13TNV|hobs> set the channel purpose: Bot playground! Have fun, but keep the traffic down so that everyone gets a change to play.\",',\n",
       "   u'ts': u'1455418213.000004',\n",
       "   u'type': u'message',\n",
       "   u'user': u'U0LL13TNV'},\n",
       "  {u'subtype': u'channel_topic',\n",
       "   u'text': u'<@U0LL13TNV|hobs> set the channel topic: Bot playground! Have fun, but keep the traffic down so that everyone gets a change to play.',\n",
       "   u'topic': u'Bot playground! Have fun, but keep the traffic down so that everyone gets a change to play.',\n",
       "   u'ts': u'1455418203.000003',\n",
       "   u'type': u'message',\n",
       "   u'user': u'U0LL13TNV'},\n",
       "  {u'inviter': u'U0LL13TNV',\n",
       "   u'subtype': u'channel_join',\n",
       "   u'text': u'<@U0LR97J6M|buddy> has joined the channel',\n",
       "   u'ts': u'1455418169.000002',\n",
       "   u'type': u'message',\n",
       "   u'user': u'U0LR97J6M'},\n",
       "  {u'text': u'Good to see you, <@U0LLB3M7C>, sorry it took so long to invite you to this channel.',\n",
       "   u'ts': u'1455120753.000005',\n",
       "   u'type': u'message',\n",
       "   u'user': u'U0LL13TNV'},\n",
       "  {u'text': u\"I'm alive!\",\n",
       "   u'ts': u'1455120715.000004',\n",
       "   u'type': u'message',\n",
       "   u'user': u'U0LLB3M7C'},\n",
       "  {u'text': u\"I'm alive!\",\n",
       "   u'ts': u'1455120715.000003',\n",
       "   u'type': u'message',\n",
       "   u'user': u'U0LLB3M7C'},\n",
       "  {u'inviter': u'U0LL13TNV',\n",
       "   u'subtype': u'channel_join',\n",
       "   u'text': u'<@U0LLB3M7C|eliza> has joined the channel',\n",
       "   u'ts': u'1455120675.000002',\n",
       "   u'type': u'message',\n",
       "   u'user': u'U0LLB3M7C'},\n",
       "  {u'text': u'<@U0LLB3M7C>: hello',\n",
       "   u'ts': u'1454996157.000004',\n",
       "   u'type': u'message',\n",
       "   u'user': u'U0LL13TNV'},\n",
       "  {u'purpose': u'Bots gone wild! But please keep the traffic down so that our \"free tier\" slack message buffer doesn\\'t start scrolling off the history queue.',\n",
       "   u'subtype': u'channel_purpose',\n",
       "   u'text': u'<@U0LL13TNV|hobs> set the channel purpose: Bots gone wild! But please keep the traffic down so that our \"free tier\" slack message buffer doesn\\'t start scrolling off the history queue.',\n",
       "   u'ts': u'1454995036.000003',\n",
       "   u'type': u'message',\n",
       "   u'user': u'U0LL13TNV'},\n",
       "  {u'subtype': u'channel_join',\n",
       "   u'text': u'<@U0LL13TNV|hobs> has joined the channel',\n",
       "   u'ts': u'1454995036.000002',\n",
       "   u'type': u'message',\n",
       "   u'user': u'U0LL13TNV'}],\n",
       " u'ok': True}"
      ]
     },
     "execution_count": 103,
     "metadata": {},
     "output_type": "execute_result"
    }
   ],
   "source": [
    "import json\n",
    "js = json.load(open('botdmz-messages.json'))\n",
    "js"
   ]
  },
  {
   "cell_type": "code",
   "execution_count": 104,
   "metadata": {
    "collapsed": false
   },
   "outputs": [
    {
     "data": {
      "text/html": [
       "<div>\n",
       "<table border=\"1\" class=\"dataframe\">\n",
       "  <thead>\n",
       "    <tr style=\"text-align: right;\">\n",
       "      <th></th>\n",
       "      <th>has_more</th>\n",
       "      <th>messages</th>\n",
       "      <th>ok</th>\n",
       "    </tr>\n",
       "  </thead>\n",
       "  <tbody>\n",
       "    <tr>\n",
       "      <th>0</th>\n",
       "      <td>False</td>\n",
       "      <td>[{u'text': u'&lt;@U0LR97J6M&gt;: Hi', u'type': u'mes...</td>\n",
       "      <td>True</td>\n",
       "    </tr>\n",
       "  </tbody>\n",
       "</table>\n",
       "</div>"
      ],
      "text/plain": [
       "  has_more                                           messages    ok\n",
       "0    False  [{u'text': u'<@U0LR97J6M>: Hi', u'type': u'mes...  True"
      ]
     },
     "execution_count": 104,
     "metadata": {},
     "output_type": "execute_result"
    }
   ],
   "source": [
    "import pandas as pd\n",
    "from pandas.io.json import json_normalize\n",
    "json_normalize(js)"
   ]
  },
  {
   "cell_type": "code",
   "execution_count": 135,
   "metadata": {
    "collapsed": false
   },
   "outputs": [
    {
     "data": {
      "text/plain": [
       "0                                <@U0LR97J6M>: Hi\n",
       "1                                <@U0LLB3M7C>: Hi\n",
       "2              <@U0LL13TNV>:  Thanks, see ya soon\n",
       "3                    <@U0LR97J6M>: This is a test\n",
       "5                            <@U0LR97J6M>: Hello?\n",
       "12                            <@U0LLB3M7C>: Hello\n",
       "13                                          hello\n",
       "15    <@U0LL6QSP9|zakkent> has joined the channel\n",
       "Name: text, dtype: object"
      ]
     },
     "execution_count": 135,
     "metadata": {},
     "output_type": "execute_result"
    }
   ],
   "source": [
    "df = json_normalize(js['messages'])\n",
    "df[df.user == \"U0LL6QSP9\"].text\n"
   ]
  },
  {
   "cell_type": "code",
   "execution_count": 140,
   "metadata": {
    "collapsed": false
   },
   "outputs": [
    {
     "data": {
      "text/plain": [
       "[u'Hi',\n",
       " u'Hi',\n",
       " u'Thanks, see ya soon',\n",
       " u'This is a test',\n",
       " u'Hello?',\n",
       " u'Hello',\n",
       " u'hello',\n",
       " u'has joined the channel']"
      ]
     },
     "execution_count": 140,
     "metadata": {},
     "output_type": "execute_result"
    }
   ],
   "source": [
    "push=[]\n",
    "for msg in df[df.user == 'U0LL6QSP9'].text:\n",
    "    try:\n",
    "        push += [msg.split('>')[1].strip(': ')]\n",
    "    except:\n",
    "        push += [msg.strip(': ')]\n",
    "push\n"
   ]
  },
  {
   "cell_type": "code",
   "execution_count": 56,
   "metadata": {
    "collapsed": false,
    "scrolled": false
   },
   "outputs": [
    {
     "data": {
      "text/plain": [
       "[u'Hi',\n",
       " u'Hi',\n",
       " u'Thanks, see ya soon',\n",
       " u'This is a test',\n",
       " u'Hello?',\n",
       " u'Hello',\n",
       " u'hello',\n",
       " u'has joined the channel']"
      ]
     },
     "execution_count": 56,
     "metadata": {},
     "output_type": "execute_result"
    }
   ],
   "source": [
    "message= []\n",
    "for msg in df[df.user == 'U0LL6QSP9'].text:\n",
    "    try:\n",
    "        message += [msg.split('>')[1].strip(': ')]\n",
    "    except:\n",
    "        message += [msg.strip(': ')]\n",
    "\n",
    "message\n"
   ]
  },
  {
   "cell_type": "code",
   "execution_count": 100,
   "metadata": {
    "collapsed": false
   },
   "outputs": [
    {
     "data": {
      "text/plain": [
       "[u'<@U0LR97J6M',\n",
       " u': Hi',\n",
       " u'<@U0LLB3M7C',\n",
       " u': Hi',\n",
       " u'<@U0LL13TNV',\n",
       " u':  Thanks, see ya soon',\n",
       " u'<@U0LR97J6M',\n",
       " u': This is a test',\n",
       " u'<@U0LR97J6M',\n",
       " u': Hello?',\n",
       " u'<@U0LLB3M7C',\n",
       " u': Hello',\n",
       " u'hello',\n",
       " u'<@U0LL6QSP9|zakkent',\n",
       " u' has joined the channel']"
      ]
     },
     "execution_count": 100,
     "metadata": {},
     "output_type": "execute_result"
    }
   ],
   "source": [
    "\n"
   ]
  },
  {
   "cell_type": "code",
   "execution_count": 97,
   "metadata": {
    "collapsed": false
   },
   "outputs": [
    {
     "name": "stdout",
     "output_type": "stream",
     "text": [
      "[u'u0ll6qsp9', u'zakkent']\n",
      "[u'has', u'joined', u'the', u'channel']\n",
      "[u'u0lr97j6m']\n",
      "[u'hi']\n",
      "[u'u0llb3m7c']\n",
      "[u'hi']\n",
      "[u'u0ll13tnv']\n",
      "[u'thanks', u'see', u'ya', u'soon']\n",
      "[u'u0lr97j6m']\n",
      "[u'this', u'is', u'a', u'test']\n",
      "[u'u0lr97j6m']\n",
      "[u'hello']\n",
      "[u'u0llb3m7c']\n",
      "[u'hello']\n",
      "[u'hello']\n",
      "[u'u0ll6qsp9', u'zakkent']\n",
      "[u'has', u'joined', u'the', u'channel']\n",
      "[u'u0lr97j6m']\n",
      "[u'hi']\n",
      "[u'u0llb3m7c']\n",
      "[u'hi']\n",
      "[u'u0ll13tnv']\n",
      "[u'thanks', u'see', u'ya', u'soon']\n",
      "[u'u0lr97j6m']\n",
      "[u'this', u'is', u'a', u'test']\n",
      "[u'u0lr97j6m']\n",
      "[u'hello']\n",
      "[u'u0llb3m7c']\n",
      "[u'hello']\n",
      "[u'hello']\n",
      "[u'u0ll6qsp9', u'zakkent']\n",
      "[u'has', u'joined', u'the', u'channel']\n",
      "[u'u0lr97j6m']\n",
      "[u'hi']\n",
      "[u'u0llb3m7c']\n",
      "[u'hi']\n",
      "[u'u0ll13tnv']\n",
      "[u'thanks', u'see', u'ya', u'soon']\n",
      "[u'u0lr97j6m']\n",
      "[u'this', u'is', u'a', u'test']\n",
      "[u'u0lr97j6m']\n",
      "[u'hello']\n",
      "[u'u0llb3m7c']\n",
      "[u'hello']\n",
      "[u'hello']\n",
      "[u'u0ll6qsp9', u'zakkent']\n",
      "[u'has', u'joined', u'the', u'channel']\n",
      "[u'u0lr97j6m']\n",
      "[u'hi']\n",
      "[u'u0llb3m7c']\n",
      "[u'hi']\n",
      "[u'u0ll13tnv']\n",
      "[u'thanks', u'see', u'ya', u'soon']\n",
      "[u'u0lr97j6m']\n",
      "[u'this', u'is', u'a', u'test']\n",
      "[u'u0lr97j6m']\n",
      "[u'hello']\n",
      "[u'u0llb3m7c']\n",
      "[u'hello']\n",
      "[u'hello']\n",
      "[u'u0ll6qsp9', u'zakkent']\n",
      "[u'has', u'joined', u'the', u'channel']\n"
     ]
    }
   ],
   "source": [
    "from wordvec import generate_tokens\n",
    "for msg in message:\n",
    "    print list(tok.lower() for tok in generate_tokens(msg))"
   ]
  },
  {
   "cell_type": "code",
   "execution_count": 69,
   "metadata": {
    "collapsed": false
   },
   "outputs": [
    {
     "data": {
      "text/plain": [
       "1.0"
      ]
     },
     "execution_count": 69,
     "metadata": {},
     "output_type": "execute_result"
    }
   ],
   "source": [
    "import sklearn \n",
    "from sklearn.feature_extraction.text import  TfidfVectorizer\n",
    "tfidf =TfidfVectorizer()\n",
    "tfidf.fit(list(df[df.user == 'U0LL6QSP9'].text.values))\n",
    "tfidf."
   ]
  },
  {
   "cell_type": "code",
   "execution_count": null,
   "metadata": {
    "collapsed": true
   },
   "outputs": [],
   "source": []
  }
 ],
 "metadata": {
  "kernelspec": {
   "display_name": "Python 2",
   "language": "python",
   "name": "python2"
  },
  "language_info": {
   "codemirror_mode": {
    "name": "ipython",
    "version": 2
   },
   "file_extension": ".py",
   "mimetype": "text/x-python",
   "name": "python",
   "nbconvert_exporter": "python",
   "pygments_lexer": "ipython2",
   "version": "2.7.10"
  }
 },
 "nbformat": 4,
 "nbformat_minor": 0
}
